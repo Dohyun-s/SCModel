{
 "cells": [
  {
   "cell_type": "code",
   "execution_count": 80,
   "id": "75406245",
   "metadata": {},
   "outputs": [],
   "source": [
    "import torch\n",
    "import torch.nn.functional as F\n",
    "S=torch.load('./variable/S.pt')\n",
    "dist_ca=torch.load( './variable/dist_ca.pt')\n",
    "omega=torch.load('./variable/omega.pt')\n",
    "theta=torch.load('./variable/theta.pt')\n",
    "phi=torch.load('./variable/phi.pt')\n",
    "dihedral=torch.load('./variable/dihedral.pt')\n",
    "mask=torch.load('./variable/mask.pt')\n",
    "chain_M=torch.load('./variable/chain_M.pt')\n",
    "residue_idx=torch.load('./variable/residue_idx.pt')\n",
    "chain_encoding_all=torch.load('./variable/chain_encoding_all.pt')\n",
    "mask_angle=torch.load('./variable/mask_angle.pt')"
   ]
  },
  {
   "cell_type": "code",
   "execution_count": 102,
   "id": "5c02eea8",
   "metadata": {},
   "outputs": [
    {
     "name": "stdout",
     "output_type": "stream",
     "text": [
      "torch.Size([22, 428, 20])\n"
     ]
    }
   ],
   "source": [
    "import torch\n",
    "import sys\n",
    "sys.path.append(\"..\")\n",
    "# from side_chain_modeling.GVP_GNN import *\n",
    "# from side_chain_modeling.model import ProteinMPNN\n",
    "hidden_dim=128\n",
    "num_encoder_layers=3\n",
    "num_neighbors=32\n",
    "dropout=0.1\n",
    "backbone_noise=0.2\n",
    "max_protein_length = 10000\n",
    "batch_size = 10000\n",
    "reload_data_every_n_epochs = 2\n",
    "mixed_precision = True\n",
    "epoch = 0\n",
    "model = ProteinMPNN(node_features=hidden_dim, \n",
    "                        edge_features=hidden_dim, \n",
    "                        hidden_dim=hidden_dim, \n",
    "                        num_encoder_layers=num_encoder_layers, \n",
    "                        num_decoder_layers=num_encoder_layers, \n",
    "                        k_neighbors=num_neighbors, \n",
    "                        dropout=dropout, \n",
    "                        augment_eps=backbone_noise)\n",
    "result = model(dist_ca, omega, theta, phi, dihedral, mask_angle, mask, \\\n",
    "                        S, chain_M, residue_idx, chain_encoding_all)"
   ]
  },
  {
   "cell_type": "code",
   "execution_count": 103,
   "id": "0e2e1d7b",
   "metadata": {},
   "outputs": [
    {
     "data": {
      "text/plain": [
       "torch.Size([22, 428, 10, 2])"
      ]
     },
     "execution_count": 103,
     "metadata": {},
     "output_type": "execute_result"
    }
   ],
   "source": [
    "result.shape"
   ]
  },
  {
   "cell_type": "code",
   "execution_count": 97,
   "id": "aa8337da",
   "metadata": {},
   "outputs": [],
   "source": [
    "class SCPred(nn.Module):\n",
    "    def __init__(self, d_hidden=128):\n",
    "        super(SCPred, self).__init__()\n",
    "        self.norm_s0 = nn.LayerNorm(d_hidden)\n",
    "        self.linear_1 = nn.Linear(d_hidden, d_hidden)\n",
    "        self.linear_2 = nn.Linear(d_hidden, d_hidden)\n",
    "        self.linear_3 = nn.Linear(d_hidden, d_hidden)\n",
    "        self.linear_4 = nn.Linear(d_hidden, d_hidden)\n",
    "\n",
    "        # Final outputs\n",
    "        self.NTOTAL = 10\n",
    "        self.state = 10\n",
    "        self.linear_out = nn.Linear(d_hidden, 2*self.state)\n",
    "\n",
    "        self.reset_parameter()\n",
    "\n",
    "    def reset_parameter(self):a\n",
    "        self.linear_out = init_lecun_normal(self.linear_out)\n",
    "        nn.init.zeros_(self.linear_out.bias)\n",
    "        \n",
    "        # right before relu activation: He initializer (kaiming normal)\n",
    "        nn.init.kaiming_normal_(self.linear_1.weight, nonlinearity='relu')\n",
    "        nn.init.zeros_(self.linear_1.bias)\n",
    "        nn.init.kaiming_normal_(self.linear_3.weight, nonlinearity='relu')\n",
    "        nn.init.zeros_(self.linear_3.bias)\n",
    "\n",
    "        # right before residual connection: zero initialize\n",
    "        nn.init.zeros_(self.linear_2.weight)\n",
    "        nn.init.zeros_(self.linear_2.bias)\n",
    "        nn.init.zeros_(self.linear_4.weight)\n",
    "        nn.init.zeros_(self.linear_4.bias)\n",
    "    \n",
    "    def forward(self, seq):\n",
    "        '''\n",
    "        Predict side-chain torsion angles along with backbone torsions\n",
    "        '''\n",
    "        B, L = seq.shape[:2]\n",
    "        si = self.norm_s0(seq)\n",
    "\n",
    "        si = si + self.linear_2(F.relu_(self.linear_1(F.relu_(si))))\n",
    "        si = si + self.linear_4(F.relu_(self.linear_3(F.relu_(si))))\n",
    "\n",
    "        si = self.linear_out(F.relu_(si))\n",
    "        return si.view(B, L, self.NTOTAL, 2)\n",
    "\n",
    "def init_lecun_normal(module, scale=1.0):\n",
    "    def truncated_normal(uniform, mu=0.0, sigma=1.0, a=-2, b=2):\n",
    "        normal = torch.distributions.normal.Normal(0, 1)\n",
    "\n",
    "        alpha = (a - mu) / sigma\n",
    "        beta = (b - mu) / sigma\n",
    "\n",
    "        alpha_normal_cdf = normal.cdf(torch.tensor(alpha))\n",
    "        p = alpha_normal_cdf + (normal.cdf(torch.tensor(beta)) - alpha_normal_cdf) * uniform\n",
    "\n",
    "        v = torch.clamp(2 * p - 1, -1 + 1e-8, 1 - 1e-8)\n",
    "        x = mu + sigma * np.sqrt(2) * torch.erfinv(v)\n",
    "        x = torch.clamp(x, a, b)\n",
    "\n",
    "        return x\n",
    "\n",
    "    def sample_truncated_normal(shape, scale=1.0):\n",
    "        stddev = np.sqrt(scale/shape[-1])/.87962566103423978  # shape[-1] = fan_in\n",
    "        return stddev * truncated_normal(torch.rand(shape))\n",
    "\n",
    "    module.weight = torch.nn.Parameter( (sample_truncated_normal(module.weight.shape)) )\n",
    "    return module"
   ]
  },
  {
   "cell_type": "code",
   "execution_count": 100,
   "id": "12f81e6d",
   "metadata": {},
   "outputs": [],
   "source": [
    "import torch.nn as nn\n",
    "import numpy as np\n",
    "from einops import rearrange\n",
    "import torch.utils.checkpoint\n",
    "class ProteinMPNN(nn.Module):\n",
    "    def __init__(\n",
    "        self,\n",
    "        num_letters=21,\n",
    "        node_features=128,\n",
    "        edge_features=128,\n",
    "        hidden_dim=128,\n",
    "        num_encoder_layers=3,\n",
    "        num_decoder_layers=3,\n",
    "        vocab=21,\n",
    "        k_neighbors=32,\n",
    "        augment_eps=0.1,\n",
    "        dropout=0.1,\n",
    "        num_positional_embeddings=16,\n",
    "        num_rbf=16\n",
    "    ):\n",
    "        super(ProteinMPNN, self).__init__()\n",
    "\n",
    "        # Hyperparameters\n",
    "        self.node_features = node_features\n",
    "        self.edge_features = edge_features\n",
    "        self.hidden_dim = hidden_dim\n",
    "        self.top_k = k_neighbors\n",
    "        self.features = ProteinFeatures(edge_features=edge_features, num_positional_embeddings=num_positional_embeddings,\\\n",
    "                                        k_neighbors=k_neighbors, num_rbf=num_rbf)\n",
    "        self.scpred = SCPred(d_hidden=hidden_dim) \n",
    "        self.W_e = nn.Linear(edge_features, hidden_dim, bias=True)\n",
    "        self.W_s = nn.Embedding(vocab, hidden_dim)\n",
    "\n",
    "        # Encoder layers\n",
    "        self.encoder_layers = nn.ModuleList([\n",
    "            EncLayer(hidden_dim, hidden_dim*2, dropout=dropout)\n",
    "            for _ in range(num_encoder_layers)\n",
    "        ])\n",
    "        edge_in = num_positional_embeddings * 8 #+ self.num_rbf*25\n",
    "        self.ln_post = nn.LayerNorm(hidden_dim)\n",
    "        self.embeddings = PositionalEncodings(num_positional_embeddings)\n",
    "\n",
    "        #         self.structure_projection = nn.Parameter(torch.randn(128, 512))\n",
    "\n",
    "        for p in self.parameters():\n",
    "            if p.dim() > 1:\n",
    "                nn.init.xavier_uniform_(p)\n",
    "    \n",
    "    def _rbf(self, D):\n",
    "        device = D.device\n",
    "        D_min, D_max, D_count = 2., 22., self.num_rbf\n",
    "        D_mu = torch.linspace(D_min, D_max, D_count, device=device)\n",
    "        D_mu = D_mu.view([1,1,1,-1])\n",
    "        D_sigma = (D_max - D_min) / D_count\n",
    "        D_expand = torch.unsqueeze(D, -1)\n",
    "        RBF = torch.exp(-((D_expand - D_mu) / D_sigma)**2)\n",
    "        return RBF\n",
    "\n",
    "    def _get_rbf(self, A, B, E_idx):\n",
    "        D_A_B = torch.sqrt(torch.sum((A[:,:,None,:] - B[:,None,:,:])**2,-1) + 1e-6) #[B, L, L]\n",
    "        D_A_B_neighbors = gather_edges(D_A_B[:,:,:,None], E_idx)[:,:,:,0] #[B,L,K]\n",
    "        RBF_A_B = self._rbf(D_A_B_neighbors)\n",
    "        return RBF_A_B\n",
    "    \n",
    "    def forward(self, dist_ca, omega, theta, phi, dihedral, mask_angle, mask, S, chain_M, residue_idx, chain_encoding_all):\n",
    "        \"\"\" Graph-conditioned sequence model \"\"\"\n",
    "        device=dist_ca.device\n",
    "        # Prepare node and edge embeddings\n",
    "        E, E_idx = self.features(dist_ca, omega, theta, phi, dihedral, mask_angle, mask, residue_idx, chain_encoding_all)\n",
    "        node_v = dihedral\n",
    "        # h_V = torch.zeros((E.shape[0], E.shape[1], E.shape[-1]), device=E.device)\n",
    "        # h_E = self.W_e(E)\n",
    "\n",
    "        # # Encoder is unmasked self-attention\n",
    "        # mask_attend = gather_nodes(mask.unsqueeze(-1),  E_idx).squeeze(-1)\n",
    "        # mask_attend = mask.unsqueeze(-1) * mask_attend\n",
    "        # for layer in self.encoder_layers:\n",
    "        #     h_V, h_E = torch.utils.checkpoint.checkpoint(layer, h_V, h_E, E_idx, mask, mask_attend)\n",
    "        h_V = torch.zeros((E.shape[0], E.shape[1], E.shape[-1]), device=E.device)\n",
    "        h_E = self.W_e(E)\n",
    "\n",
    "        # Encoder is unmasked self-attention\n",
    "        mask_attend = gather_nodes(mask.unsqueeze(-1),  E_idx).squeeze(-1)\n",
    "        mask_attend = mask.unsqueeze(-1) * mask_attend\n",
    "        for layer in self.encoder_layers:\n",
    "#             h_V, h_E = torch.utils.checkpoint(layer, h_V, h_E, E_idx, mask, mask_attend)\n",
    "            h_V, h_E = layer(h_V, h_E, E_idx, mask, mask_attend)\n",
    "        \n",
    "        h_EV = h_E.mean(-2) + h_V\n",
    "#         h_EV = self.ln_post(h_EV.mean(dim=1))\n",
    "        result = self.scpred(h_EV)\n",
    "        return result\n",
    "\n",
    "    \n",
    "class ProteinFeatures(nn.Module):\n",
    "    def __init__(self, edge_features=128, num_positional_embeddings=16,\n",
    "        k_neighbors=32, num_rbf=16):\n",
    "        \"\"\" Extract protein features \"\"\"\n",
    "        super(ProteinFeatures, self).__init__()\n",
    "        # Hyperparameters\n",
    "        self.edge_features = edge_features\n",
    "        self.top_k = k_neighbors\n",
    "\n",
    "        edge_in = num_positional_embeddings * 8\n",
    "        self.embeddings = PositionalEncodings(num_positional_embeddings)\n",
    "        self.edge_embedding = nn.Linear(edge_in, edge_features, bias=False)\n",
    "        self.norm_edges = nn.LayerNorm(edge_features)\n",
    "        self.num_rbf = num_rbf\n",
    "        \n",
    "    def _dist(self, dist_ca, mask_angle, eps=1E-6):\n",
    "        D = mask_angle * dist_ca\n",
    "        D_max, _ = torch.max(D, -1, keepdim=True)\n",
    "        D_adjust = D + (1. - mask_angle) * D_max\n",
    "        # number of Ca atoms is 14.\n",
    "        Ca_dim = 14\n",
    "        D_neighbors, E_idx = torch.topk(D_adjust, np.minimum(self.top_k, Ca_dim), dim=-1, largest=False)\n",
    "        return D_neighbors, E_idx\n",
    "    \n",
    "    def _rbf(self, D):\n",
    "        device = D.device\n",
    "        D_min, D_max, D_count = 2., 22., self.num_rbf\n",
    "        D_mu = torch.linspace(D_min, D_max, D_count, device=device)\n",
    "        D_mu = D_mu.view([1,1,1,-1])\n",
    "        D_sigma = (D_max - D_min) / D_count\n",
    "        D_expand = torch.unsqueeze(D, -1)\n",
    "        RBF = torch.exp(-((D_expand - D_mu) / D_sigma)**2)\n",
    "        return RBF\n",
    "    \n",
    "    def forward(self, dist_ca, omega, theta, phi, dihedral, mask_angle, mask, residue_idx, chain_encoding_all):\n",
    "        D_neighbors, E_idx = self._dist(dist_ca, mask_angle)\n",
    "        offset = residue_idx[:,:,None] - residue_idx[:,None,:]\n",
    "        \n",
    "        edge_s = [offset, torch.cos(omega), torch.sin(omega), torch.cos(theta), \\\n",
    "                    torch.sin(theta), torch.cos(phi), torch.sin(phi)]\n",
    "        edge_s = torch.cat([gather_edges(X[:,:,:,None], E_idx)[:,:,:,0] for X in edge_s])\n",
    "        d_chains = ((chain_encoding_all[:, :, None] - chain_encoding_all[:,None,:])==0).long()\n",
    "        E_chains = gather_edges(d_chains[:,:,:,None], E_idx)[:,:,:,0]\n",
    "        E_chains = torch.tile(E_chains,(7,1,1))\n",
    "        E_positional = self.embeddings(edge_s.long(), E_chains)\n",
    "        E_positional = rearrange(E_positional, '(n b) l t c -> b l t (n c)', n=7)\n",
    "        \n",
    "        RBF_all = self._rbf(D_neighbors)\n",
    "        E = torch.cat((E_positional, RBF_all), -1)\n",
    "        E = self.edge_embedding(E)\n",
    "        E = self.norm_edges(E)  # positional + ca-distance\n",
    "        return E, E_idx\n",
    "\n",
    "    \n",
    "class PositionalEncodings(nn.Module):\n",
    "    def __init__(self, num_embeddings, max_relative_feature=32):\n",
    "        super(PositionalEncodings, self).__init__()\n",
    "        self.num_embeddings = num_embeddings\n",
    "        self.max_relative_feature = max_relative_feature\n",
    "        self.linear = nn.Linear(2*max_relative_feature+1+1, num_embeddings)\n",
    "\n",
    "    def forward(self, offset, mask):\n",
    "        d = torch.clip(offset + self.max_relative_feature, 0, 2*self.max_relative_feature)*mask + (1-mask)*(2*self.max_relative_feature+1)\n",
    "        d_onehot = torch.nn.functional.one_hot(d, 2*self.max_relative_feature+1+1)\n",
    "        E = self.linear(d_onehot.float())\n",
    "        return E\n",
    "\n",
    "def gather_edges(edges, neighbor_idx):\n",
    "    # Features [B,N,N,C] at Neighbor indices [B,N,K] => Neighbor features [B,N,K,C]\n",
    "    neighbors = neighbor_idx.unsqueeze(-1).expand(-1, -1, -1, edges.size(-1))\n",
    "    edge_features = torch.gather(edges, 2, neighbors)\n",
    "    return edge_features \n",
    "\n",
    "def cat_neighbors_nodes(h_nodes, h_neighbors, E_idx):\n",
    "    h_nodes = gather_nodes(h_nodes, E_idx)\n",
    "    h_nn = torch.cat([h_neighbors, h_nodes], -1)\n",
    "    return h_nn\n",
    "\n",
    "class EncLayer(nn.Module):\n",
    "    def __init__(self, num_hidden, num_in, dropout=0.1, num_heads=None, scale=30):\n",
    "        super(EncLayer, self).__init__()\n",
    "        self.num_hidden = num_hidden\n",
    "        self.num_in = num_in\n",
    "        self.scale = scale\n",
    "        self.dropout1 = nn.Dropout(dropout)\n",
    "        self.dropout2 = nn.Dropout(dropout)\n",
    "        self.dropout3 = nn.Dropout(dropout)\n",
    "        self.norm1 = nn.LayerNorm(num_hidden)\n",
    "        self.norm2 = nn.LayerNorm(num_hidden)\n",
    "        self.norm3 = nn.LayerNorm(num_hidden)\n",
    "\n",
    "        self.W1 = nn.Linear(num_hidden + num_in, num_hidden, bias=True)\n",
    "        self.W2 = nn.Linear(num_hidden, num_hidden, bias=True)\n",
    "        self.W3 = nn.Linear(num_hidden, num_hidden, bias=True)\n",
    "        self.W11 = nn.Linear(num_hidden + num_in, num_hidden, bias=True)\n",
    "        self.W12 = nn.Linear(num_hidden, num_hidden, bias=True)\n",
    "        self.W13 = nn.Linear(num_hidden, num_hidden, bias=True)\n",
    "        self.act = torch.nn.GELU()\n",
    "        self.dense = PositionWiseFeedForward(num_hidden, num_hidden * 4)\n",
    "\n",
    "    def forward(self, h_V, h_E, E_idx, mask_V=None, mask_attend=None):\n",
    "        \"\"\" Parallel computation of full transformer layer \"\"\"\n",
    "\n",
    "        h_EV = cat_neighbors_nodes(h_V, h_E, E_idx)\n",
    "        h_V_expand = h_V.unsqueeze(-2).expand(-1,-1,h_EV.size(-2),-1)\n",
    "        h_EV = torch.cat([h_V_expand, h_EV], -1)\n",
    "        h_message = self.W3(self.act(self.W2(self.act(self.W1(h_EV)))))\n",
    "        if mask_attend is not None:\n",
    "            h_message = mask_attend.unsqueeze(-1) * h_message\n",
    "        dh = torch.sum(h_message, -2) / self.scale\n",
    "        h_V = self.norm1(h_V + self.dropout1(dh))\n",
    "\n",
    "        dh = self.dense(h_V)\n",
    "        h_V = self.norm2(h_V + self.dropout2(dh))\n",
    "        if mask_V is not None:\n",
    "            mask_V = mask_V.unsqueeze(-1)\n",
    "            h_V = mask_V * h_V\n",
    "\n",
    "        h_EV = cat_neighbors_nodes(h_V, h_E, E_idx)\n",
    "        h_V_expand = h_V.unsqueeze(-2).expand(-1,-1,h_EV.size(-2),-1)\n",
    "        h_EV = torch.cat([h_V_expand, h_EV], -1)\n",
    "        h_message = self.W13(self.act(self.W12(self.act(self.W11(h_EV)))))\n",
    "        h_E = self.norm3(h_E + self.dropout3(h_message))\n",
    "        return h_V, h_E\n",
    "\n",
    "class PositionWiseFeedForward(nn.Module):\n",
    "    def __init__(self, num_hidden, num_ff):\n",
    "        super(PositionWiseFeedForward, self).__init__()\n",
    "        self.W_in = nn.Linear(num_hidden, num_ff, bias=True)\n",
    "        self.W_out = nn.Linear(num_ff, num_hidden, bias=True)\n",
    "        self.act = torch.nn.GELU()\n",
    "    def forward(self, h_V):\n",
    "        h = self.act(self.W_in(h_V))\n",
    "        h = self.W_out(h)\n",
    "        return h\n",
    "\n",
    "def gather_nodes(nodes, neighbor_idx):\n",
    "    # Features [B,N,C] at Neighbor indices [B,N,K] => [B,N,K,C]\n",
    "    # Flatten and expand indices per batch [B,N,K] => [B,NK] => [B,NK,C]\n",
    "    neighbors_flat = neighbor_idx.view((neighbor_idx.shape[0], -1))\n",
    "    neighbors_flat = neighbors_flat.unsqueeze(-1).expand(-1, -1, nodes.size(2))\n",
    "    # Gather and re-pack\n",
    "    neighbor_features = torch.gather(nodes, 1, neighbors_flat)\n",
    "    neighbor_features = neighbor_features.view(list(neighbor_idx.shape)[:3] + [-1])\n",
    "    return neighbor_features\n",
    "\n"
   ]
  },
  {
   "cell_type": "code",
   "execution_count": 32,
   "id": "8282920c",
   "metadata": {},
   "outputs": [
    {
     "name": "stdout",
     "output_type": "stream",
     "text": [
      "torch.Size([138, 434, 14])\n",
      "torch.Size([23, 434, 14])\n"
     ]
    }
   ],
   "source": [
    "D_neighbors, E_idx = ProteinFeatures()._dist(dist_ca, mask)\n",
    "offset = residue_idx[:,:,None]-residue_idx[:,None,:]\n",
    "edge_s = [torch.cos(omega), torch.sin(omega), torch.cos(theta), \\\n",
    "                    torch.sin(theta), torch.cos(phi), torch.sin(phi)]\n",
    "edge_s = torch.cat([gather_edges(X[:,:,:,None], E_idx)[:,:,:,0] for X in edge_s])\n",
    "print(edge_s.size())\n",
    "d_chains = ((chain_encoding_all[:, :, None] - chain_encoding_all[:,None,:])==0).long() #find self vs non-self interaction\n",
    "E_chains = gather_edges(d_chains[:,:,:,None], E_idx)[:,:,:,0]\n",
    "print(E_idx.size())"
   ]
  },
  {
   "cell_type": "code",
   "execution_count": 34,
   "id": "267590a2",
   "metadata": {},
   "outputs": [
    {
     "data": {
      "text/plain": [
       "torch.Size([23, 434, 14, 16])"
      ]
     },
     "execution_count": 34,
     "metadata": {},
     "output_type": "execute_result"
    }
   ],
   "source": [
    "RBF_all = ProteinFeatures()._rbf(D_neighbors)\n",
    "RBF_all.shape"
   ]
  },
  {
   "cell_type": "code",
   "execution_count": 39,
   "id": "53fec1ba",
   "metadata": {},
   "outputs": [
    {
     "data": {
      "text/plain": [
       "torch.Size([23, 434, 14, 16])"
      ]
     },
     "execution_count": 39,
     "metadata": {},
     "output_type": "execute_result"
    }
   ],
   "source": [
    "edge_offset = offset\n",
    "edge_offset = gather_edges(edge_offset[:,:,:,None], E_idx)[:,:,:,0] #[B, L, K]\n",
    "E_positional = ProteinFeatures().embeddings(edge_offset.long(), E_chains)\n",
    "E_positional.shape"
   ]
  },
  {
   "cell_type": "code",
   "execution_count": 30,
   "id": "c939a979",
   "metadata": {
    "scrolled": true
   },
   "outputs": [
    {
     "data": {
      "text/plain": [
       "torch.Size([138, 434, 14, 16])"
      ]
     },
     "execution_count": 30,
     "metadata": {},
     "output_type": "execute_result"
    }
   ],
   "source": [
    "ProteinFeatures().embeddings(edge_s.long(),torch.tile(E_chains,(6,1,1))).shape"
   ]
  },
  {
   "cell_type": "code",
   "execution_count": 135,
   "id": "3160fa62",
   "metadata": {},
   "outputs": [
    {
     "name": "stdout",
     "output_type": "stream",
     "text": [
      "torch.Size([23, 434, 14, 1])\n",
      "torch.Size([138, 434, 434, 1])\n"
     ]
    },
    {
     "data": {
      "text/plain": [
       "torch.Size([23, 434, 14, 1])"
      ]
     },
     "execution_count": 135,
     "metadata": {},
     "output_type": "execute_result"
    }
   ],
   "source": [
    "EE = E_idx.unsqueeze(-1).expand(-1, -1, -1, edge_s[:,:,:,None].size(-1))\n",
    "print(EE.size())\n",
    "print(edge_s[:,:,:,None].size())\n",
    "torch.gather(edge_s[:,:,:,None], 2, EE).shape"
   ]
  },
  {
   "cell_type": "code",
   "execution_count": 130,
   "id": "a55396bd",
   "metadata": {},
   "outputs": [
    {
     "data": {
      "text/plain": [
       "(torch.Size([138, 434, 434, 1]), torch.Size([23, 434, 14]))"
      ]
     },
     "execution_count": 130,
     "metadata": {},
     "output_type": "execute_result"
    }
   ],
   "source": [
    "edge_s[:,:,:,None].size(),E_idx.size()"
   ]
  },
  {
   "cell_type": "code",
   "execution_count": 136,
   "id": "7d9b7037",
   "metadata": {},
   "outputs": [],
   "source": [
    "offset = residue_idx[:,:,None]-residue_idx[:,None,:]\n",
    "edge_s = [offset, torch.cos(omega), torch.sin(omega), torch.cos(theta), \\\n",
    "                    torch.sin(theta), torch.cos(phi), torch.sin(phi)]\n",
    "edge_s = torch.cat([gather_edges(X[:,:,:,None], E_idx)[:,:,:,0] for X in edge_s])"
   ]
  },
  {
   "cell_type": "code",
   "execution_count": 147,
   "id": "94ba34b1",
   "metadata": {},
   "outputs": [
    {
     "data": {
      "text/plain": [
       "torch.Size([161, 434, 14])"
      ]
     },
     "execution_count": 147,
     "metadata": {},
     "output_type": "execute_result"
    }
   ],
   "source": [
    "torch.tile(E_chains,(7,1,1)).shape"
   ]
  },
  {
   "cell_type": "code",
   "execution_count": 150,
   "id": "1fe8af0e",
   "metadata": {},
   "outputs": [
    {
     "data": {
      "text/plain": [
       "torch.Size([161, 434, 14, 16])"
      ]
     },
     "execution_count": 150,
     "metadata": {},
     "output_type": "execute_result"
    }
   ],
   "source": [
    "E_positional = ProteinMPNN().embeddings(edge_s.long(), torch.tile(E_chains,(7,1,1)))\n",
    "E_positional.size()"
   ]
  },
  {
   "cell_type": "code",
   "execution_count": 154,
   "id": "98cbf727",
   "metadata": {},
   "outputs": [
    {
     "data": {
      "text/plain": [
       "torch.Size([23, 434, 14, 112])"
      ]
     },
     "execution_count": 154,
     "metadata": {},
     "output_type": "execute_result"
    }
   ],
   "source": [
    "from einops import rearrange\n",
    "E_positional_ = rearrange(E_positional, '(n b) l t c -> b l t (n c)', n=7)\n",
    "E_positional_.shape"
   ]
  },
  {
   "cell_type": "code",
   "execution_count": 155,
   "id": "e50916ad",
   "metadata": {},
   "outputs": [],
   "source": [
    "RBF_all = ProteinMPNN()._rbf(D_neighbors)\n",
    "#         print(RBF_all.shape)\n",
    "E = torch.cat((E_positional_, RBF_all), -1)"
   ]
  }
 ],
 "metadata": {
  "kernelspec": {
   "display_name": "Python 3 (ipykernel)",
   "language": "python",
   "name": "python3"
  },
  "language_info": {
   "codemirror_mode": {
    "name": "ipython",
    "version": 3
   },
   "file_extension": ".py",
   "mimetype": "text/x-python",
   "name": "python",
   "nbconvert_exporter": "python",
   "pygments_lexer": "ipython3",
   "version": "3.9.15"
  }
 },
 "nbformat": 4,
 "nbformat_minor": 5
}
